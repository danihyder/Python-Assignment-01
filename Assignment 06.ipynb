{
 "cells": [
  {
   "cell_type": "code",
   "execution_count": 17,
   "metadata": {},
   "outputs": [
    {
     "name": "stdout",
     "output_type": "stream",
     "text": [
      "Object-oriented programming (OOP) is a programming language model in which programs are organized around data, or objects, rather than functions and logic.\n",
      "OOP is based on four principles: Inheritance. Encapsulation , Polymorphism and Abstraction\n",
      "OOP focuses on the objects that developers want to manipulate rather than the logic required to manipulate them\n"
     ]
    }
   ],
   "source": [
    "#Question 01: Define OOP?\n",
    "\n",
    "print(\"Object-oriented programming (OOP) is a programming language model in which programs are organized around data, or objects, rather than functions and logic.\")\n",
    "print(\"OOP is based on four principles: Inheritance. Encapsulation , Polymorphism and Abstraction\")\n",
    "print(\"OOP focuses on the objects that developers want to manipulate rather than the logic required to manipulate them\")"
   ]
  },
  {
   "cell_type": "code",
   "execution_count": 22,
   "metadata": {},
   "outputs": [
    {
     "name": "stdout",
     "output_type": "stream",
     "text": [
      "1. OOP makes the basic code easier to maintain. You dont need to change the whole code if you want to update just a part of it.\n",
      "2. Objects can also be reused within an across applications.\n",
      "3. It implements real life scenario.\n",
      "4. In OOP, programmer not only defines data types but also deals with operations applied for data structures.\n"
     ]
    }
   ],
   "source": [
    "#Question 02: Benefits of OOP?\n",
    "\n",
    "print(\"1. OOP makes the basic code easier to maintain. You dont need to change the whole code if you want to update just a part of it.\")\n",
    "print(\"2. Objects can also be reused within an across applications.\")\n",
    "print(\"3. It implements real life scenario.\")\n",
    "print(\"4. In OOP, programmer not only defines data types but also deals with operations applied for data structures.\")"
   ]
  },
  {
   "cell_type": "code",
   "execution_count": 34,
   "metadata": {},
   "outputs": [
    {
     "name": "stdout",
     "output_type": "stream",
     "text": [
      "Functions\n",
      "It is a sequence of statements that execute in a certain order, given a name.\n",
      "Functions let us implement code reusability. There are built-in and user-defined functions.\n",
      "we can pass arguments when calling a funtion if it takes parameters.\n",
      "\n",
      "\n",
      "Method\n",
      "it is attached to an object. We call a method on an object, and it possibly makes changes to that object.\n",
      "A method, then, belongs to a class.\n",
      "methods take self as first parameter , then you know that its a method\n",
      "A method can operate on the data (instance variables) that is contained by the corresponding class.\n"
     ]
    }
   ],
   "source": [
    "#Question 03: Differentiate between function and method?\n",
    "\n",
    "print(\"Functions\")\n",
    "print(\"It is a sequence of statements that execute in a certain order, given a name.\")\n",
    "print(\"Functions let us implement code reusability. There are built-in and user-defined functions.\")\n",
    "print(\"we can pass arguments when calling a funtion if it takes parameters.\")\n",
    "print(\"\\n\")\n",
    "print(\"Method\")\n",
    "print(\"it is attached to an object. We call a method on an object, and it possibly makes changes to that object.\")\n",
    "print(\"A method, then, belongs to a class.\")\n",
    "print(\"methods take self as first parameter , then you know that its a method\")\n",
    "print(\"A method can operate on the data (instance variables) that is contained by the corresponding class.\")"
   ]
  },
  {
   "cell_type": "code",
   "execution_count": 65,
   "metadata": {},
   "outputs": [
    {
     "name": "stdout",
     "output_type": "stream",
     "text": [
      "Class\n",
      "A class is a blueprint for objects- one class for any number of objects of that type.\n",
      "You can also call it an abstract data type.\n",
      "it contains no values itself, but it is like a prototype for objects.\n",
      "for example: class Footballplayer:\n",
      "\n",
      "\n",
      "Objects\n",
      "An object is any real-world entity that has attributes and behaviors.\n",
      "Its an object is to a class as is a prototype to a blueprint.\n",
      "every class is derived from the class ‘object’.\n",
      "for example: playername, jerseynumber, playingposition\n",
      "\n",
      "\n",
      "Attribute\n",
      "It belong to the class itself they will be shared by all the instances.\n",
      "Such attributes are defined in the class body parts usually at the top, for legibility.\n",
      "for example\n",
      "       self.name = playername\n",
      "       self.jerseynumber = jerseynumber\n",
      "       self.playingposition = playingposition\n",
      "     \n",
      "\n",
      "\n",
      "Behavior\n",
      "\n",
      "method For defining players who are better in dribbling then most players \n",
      "methods can only be defined in the class scope ,its perform a task when we call it.\n",
      "this method will print the player name which will be passed as argument when calling this method,\n",
      "printing is this methods behavior\n",
      "def specialists(self):\n",
      "print(self.name, \"is better in dribbble then other soccerPlayers\")     \n",
      "function is different then methods you can define funtion in and out of the class\n",
      "def run(name):\n",
      "print(name,\"runs fast\")\n",
      "\n"
     ]
    }
   ],
   "source": [
    "#Question 04: Define the following terms: Class, Object, Attribute, Behavior\n",
    "\n",
    "print('Class')\n",
    "print('A class is a blueprint for objects- one class for any number of objects of that type.')\n",
    "print('You can also call it an abstract data type.')\n",
    "print('it contains no values itself, but it is like a prototype for objects.')\n",
    "print('for example: class Footballplayer:')\n",
    "print(\"\\n\")\n",
    "\n",
    "print('Objects')\n",
    "print('An object is any real-world entity that has attributes and behaviors.')\n",
    "print('Its an object is to a class as is a prototype to a blueprint.')\n",
    "print('every class is derived from the class ‘object’.')\n",
    "print('for example: playername, jerseynumber, playingposition')\n",
    "print(\"\\n\")\n",
    "\n",
    "print(\"Attribute\")\n",
    "print('It belong to the class itself they will be shared by all the instances.')\n",
    "print('Such attributes are defined in the class body parts usually at the top, for legibility.')\n",
    "print('''for example\n",
    "       self.name = playername\n",
    "       self.jerseynumber = jerseynumber\n",
    "       self.playingposition = playingposition\n",
    "     ''')\n",
    "print(\"\\n\")\n",
    "\n",
    "print('Behavior')\n",
    "print('''\n",
    "method For defining players who are better in dribbling then most players \n",
    "methods can only be defined in the class scope ,its perform a task when we call it.\n",
    "this method will print the player name which will be passed as argument when calling this method,\n",
    "printing is this methods behavior\n",
    "def specialists(self):\n",
    "print(self.name, \"is better in dribbble then other soccerPlayers\")     \n",
    "function is different then methods you can define funtion in and out of the class\n",
    "def run(name):\n",
    "print(name,\"runs fast\")\n",
    "''')"
   ]
  },
  {
   "cell_type": "code",
   "execution_count": 70,
   "metadata": {},
   "outputs": [
    {
     "name": "stdout",
     "output_type": "stream",
     "text": [
      "this car name is :  Civic\n",
      "Suzuki\n",
      "mate Black\n",
      "Ax-22\n"
     ]
    }
   ],
   "source": [
    "#Question 05: \n",
    "\n",
    "class Car:\n",
    "    def __init__(self,model,color,name,company,number):\n",
    "        self.model=model\n",
    "        self.color=color\n",
    "        self.name=name\n",
    "        self.company=company\n",
    "        self.number=number\n",
    "        \n",
    "    def print_name(self):\n",
    "        print(\"this car name is : \",self.name)\n",
    "            \n",
    "    def print_UPdatecompany(self):\n",
    "        self.company=\"Suzuki\"\n",
    "        print(self.company)\n",
    "            \n",
    "    def print_number(self):\n",
    "        print(self.number)\n",
    "        \n",
    "    def print_color(self):\n",
    "        print(self.color)\n",
    "            \n",
    "car1=Car('2019','Black','Corolla','Toyota','Abx-2132')\n",
    "car2=Car('2018','white','VIGO','Toyota','Xayz-212')\n",
    "car3=Car('2017','Red','land Cruiser','Toyota','cda-132')\n",
    "car4=Car('2016','Blue','Civic','Honda','zzw-32')\n",
    "car5=Car('2015','mate Black','City','Honda','Ax-22')\n",
    "\n",
    "\n",
    "\n",
    "car4.print_name()\n",
    "car4.print_UPdatecompany()\n",
    "car5.print_color()\n",
    "car5.print_number()\n"
   ]
  },
  {
   "cell_type": "code",
   "execution_count": null,
   "metadata": {},
   "outputs": [],
   "source": []
  }
 ],
 "metadata": {
  "kernelspec": {
   "display_name": "Python 3",
   "language": "python",
   "name": "python3"
  },
  "language_info": {
   "codemirror_mode": {
    "name": "ipython",
    "version": 3
   },
   "file_extension": ".py",
   "mimetype": "text/x-python",
   "name": "python",
   "nbconvert_exporter": "python",
   "pygments_lexer": "ipython3",
   "version": "3.7.4"
  }
 },
 "nbformat": 4,
 "nbformat_minor": 2
}
