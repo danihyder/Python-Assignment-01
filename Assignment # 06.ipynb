{
 "cells": [
  {
   "cell_type": "code",
   "execution_count": 4,
   "metadata": {},
   "outputs": [
    {
     "name": "stdout",
     "output_type": "stream",
     "text": [
      "Enter a number to calculate the factiorial : 5\n",
      "120\n"
     ]
    }
   ],
   "source": [
    "#Question # 01:Python function to calculate a factorial of a number (a non-negative integer).The function accepts the number as an argument.\n",
    "\n",
    "\n",
    "def factorial(number):\n",
    "    if number == 0:\n",
    "        return 1\n",
    "    else:\n",
    "        return number * factorial(number-1)\n",
    "number=int(input(\"Enter a number to calculate the factiorial : \"))\n",
    "print(factorial(number))"
   ]
  },
  {
   "cell_type": "code",
   "execution_count": 5,
   "metadata": {},
   "outputs": [
    {
     "name": "stdout",
     "output_type": "stream",
     "text": [
      "Enter a string:DaNiYaL HaiDeR\n",
      "Original String :  DaNiYaL HaiDeR\n",
      "No. of Upper case characters :  7\n",
      "No. of Lower case Characters :  6\n",
      "None\n"
     ]
    }
   ],
   "source": [
    "#Question # 02: Python function that accepts a string and calculate the number of upper case letters and lower case letters.\n",
    "\n",
    "def string_test(s):\n",
    "    value={\"UPPER_CASE\":0, \"LOWER_CASE\":0}\n",
    "     \n",
    "    for c in s:\n",
    "        if c.isupper():\n",
    "           value[\"UPPER_CASE\"]+=1\n",
    "        elif c.islower():\n",
    "           value[\"LOWER_CASE\"]+=1\n",
    "        else:\n",
    "           pass\n",
    "    print (\"Original String : \", s)\n",
    "    print (\"No. of Upper case characters : \", value[\"UPPER_CASE\"])\n",
    "    print (\"No. of Lower case Characters : \", value[\"LOWER_CASE\"])\n",
    "\n",
    "print(string_test(s = input('Enter a string:')))"
   ]
  },
  {
   "cell_type": "code",
   "execution_count": 6,
   "metadata": {},
   "outputs": [
    {
     "name": "stdout",
     "output_type": "stream",
     "text": [
      "Enter number of element you want to enter3\n",
      "15\n",
      "20\n",
      "40\n",
      "20, 40, "
     ]
    }
   ],
   "source": [
    "#Question # 03 Python function to print the even numbers from a given list.\n",
    "\n",
    "List = [];\n",
    "n = int(input(\"Enter number of element you want to enter\"));\n",
    "for i in range(0, n):\n",
    "    num= int(input());\n",
    "    List.append(num)\n",
    "#print(List);\n",
    "def EvenNum(List):\n",
    "    for num in List:\n",
    "        if num % 2==0:  \n",
    "            print(num, end =\", \");\n",
    "EvenNum(List);"
   ]
  },
  {
   "cell_type": "code",
   "execution_count": 9,
   "metadata": {},
   "outputs": [
    {
     "name": "stdout",
     "output_type": "stream",
     "text": [
      "Enter a String: level\n",
      "It is a Palindrome\n"
     ]
    }
   ],
   "source": [
    "#Question # 04 Python function that checks whether a passed string is palindrome or not.\n",
    "\n",
    "#Q4:\n",
    "#PalinDrome\n",
    "def check(PalinDrome):\n",
    "    rev=PalinDrome[::-1]\n",
    "    if (PalinDrome==rev):\n",
    "        return True\n",
    "    else:\n",
    "        return False\n",
    "\n",
    "x = input(\"Enter a String: \")\n",
    "if check(x):\n",
    "    print(\"It is a Palindrome\")\n",
    "else:\n",
    "    print(\"It is NOT A Palindrome\")"
   ]
  },
  {
   "cell_type": "code",
   "execution_count": 10,
   "metadata": {},
   "outputs": [
    {
     "name": "stdout",
     "output_type": "stream",
     "text": [
      "Enter num to check it is prime or not: 30\n",
      "30  is not a prime\n"
     ]
    }
   ],
   "source": [
    "#Question # 05 Python function that takes a number as a parameter and check the number is prime or not.\n",
    "\n",
    "num = int(input(\"Enter num to check it is prime or not: \"));\n",
    "def checkPrime(num):\n",
    "    if num>1:\n",
    "        for i in range(2,num//2):\n",
    "            if(num % i)==0:\n",
    "                print(num, \" is not a prime\");\n",
    "                break;\n",
    "            else:\n",
    "                print(num, \"is a prime number \");\n",
    "    else:\n",
    "        print(num, \"is not a prime number\");\n",
    "\n",
    "checkPrime(num);"
   ]
  },
  {
   "cell_type": "code",
   "execution_count": 12,
   "metadata": {},
   "outputs": [
    {
     "name": "stdout",
     "output_type": "stream",
     "text": [
      "Your Shoping List \n",
      "\n",
      "1 )  banana\n",
      "2 )  Mango\n",
      "3 )  Tomato\n",
      "4 )  book\n"
     ]
    }
   ],
   "source": [
    "#Question # 06 Write a function which accepts the multiple arguments of user shopping list and print all the items which user bought from market.\n",
    "\n",
    "def shopList(*items):\n",
    "    i=1\n",
    "    print(\"Your Shoping List \\n\")\n",
    "    for item in items:\n",
    "        print(i,\") \",item)\n",
    "        i=i+1\n",
    "\n",
    "shopList(\"banana\",\"Mango\",\"Tomato\",\"book\")"
   ]
  },
  {
   "cell_type": "code",
   "execution_count": null,
   "metadata": {},
   "outputs": [],
   "source": []
  }
 ],
 "metadata": {
  "kernelspec": {
   "display_name": "Python 3",
   "language": "python",
   "name": "python3"
  },
  "language_info": {
   "codemirror_mode": {
    "name": "ipython",
    "version": 3
   },
   "file_extension": ".py",
   "mimetype": "text/x-python",
   "name": "python",
   "nbconvert_exporter": "python",
   "pygments_lexer": "ipython3",
   "version": "3.7.4"
  }
 },
 "nbformat": 4,
 "nbformat_minor": 2
}
