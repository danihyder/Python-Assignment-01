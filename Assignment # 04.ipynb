{
 "cells": [
  {
   "cell_type": "code",
   "execution_count": 13,
   "metadata": {},
   "outputs": [
    {
     "name": "stdout",
     "output_type": "stream",
     "text": [
      "first_name : Daniyal\n",
      "last_name : Haider\n",
      "age : 24\n",
      "city : Sukkur\n",
      "\n",
      " Add qualification \n",
      "\n",
      "first_name : Daniyal\n",
      "last_name : Haider\n",
      "age : 24\n",
      "city : Sukkur\n",
      "qualification : BBA from IBA\n",
      "\n",
      " Update qualification \n",
      "\n",
      "first_name : Daniyal\n",
      "last_name : Haider\n",
      "age : 24\n",
      "city : Sukkur\n",
      "qualification : Bachelors\n"
     ]
    }
   ],
   "source": [
    "#Question 01\n",
    "\n",
    "person_dict={\"first_name\":\"Daniyal\",\n",
    "             \"last_name\":\"Haider\",\n",
    "             \"age\":\"24\",\n",
    "             \"city\":\"Sukkur\"}\n",
    "\n",
    "for key, value in person_dict.items():\n",
    "    print(key+\" : \"+value)\n",
    "print(\"\\n Add qualification \\n\")\n",
    "person_dict[\"qualification\"]=\"BBA from IBA\"\n",
    "for key, value in person_dict.items():\n",
    "    print(key+\" : \"+value)\n",
    "    \n",
    "print(\"\\n Update qualification \\n\")\n",
    "person_dict[\"qualification\"]=\"Bachelors\"\n",
    "for key, value in person_dict.items():\n",
    "    print(key+\" : \"+value)"
   ]
  },
  {
   "cell_type": "code",
   "execution_count": 19,
   "metadata": {},
   "outputs": [
    {
     "name": "stdout",
     "output_type": "stream",
     "text": [
      "City's Name:  Karachi\n",
      "Information:  {'Population': '14.91 million', 'Fact': 'Largest city of Pakistan', 'Country': 'Pakistan'} \n",
      "\n",
      "City's Name:  Shanghai\n",
      "Information:  {'Population': '24.24 million', 'Fact': 'Global Financial Hub', 'Country': 'China'} \n",
      "\n",
      "City's Name:  St. Petersburg\n",
      "Information:  {'Population': '4.991 million', 'Fact': 'Venice of the North', 'Country': 'Russia'} \n",
      "\n"
     ]
    }
   ],
   "source": [
    "#Question 02\n",
    "\n",
    "cities = {\n",
    "    \"Karachi\": {\n",
    "        \"Population\": \"14.91 million\",\n",
    "        \"Fact\": \"Largest city of Pakistan\",\n",
    "        \"Country\": \"Pakistan\"\n",
    "    },\n",
    "    \"Shanghai\": {\n",
    "        \"Population\": \"24.24 million\",\n",
    "        \"Fact\": \"Global Financial Hub\",\n",
    "        \"Country\": \"China\"\n",
    "    },\n",
    "    \"St. Petersburg\": {\n",
    "        \"Population\": \"4.991 million\",\n",
    "        \"Fact\": \"Venice of the North\",\n",
    "        \"Country\": \"Russia\"\n",
    "    }\n",
    "}\n",
    "for key,value in cities.items():\n",
    "    print(\"City's Name: \",key)\n",
    "    print(\"Information: \",value,\"\\n\")"
   ]
  },
  {
   "cell_type": "code",
   "execution_count": 21,
   "metadata": {},
   "outputs": [
    {
     "name": "stdout",
     "output_type": "stream",
     "text": [
      "Tell your Age: 2\n",
      "Your ticket's price is Free\n",
      "Press y for Yes for buying more tickets & Press any key if you are finished: y\n",
      "Tell your Age: 11\n",
      "Your ticket's price is $10\n",
      "Press y for Yes for buying more tickets & Press any key if you are finished: y\n",
      "Tell your Age: 18\n",
      "Your ticket's is $15\n",
      "Press y for Yes for buying more tickets & Press any key if you are finished: n\n",
      "Program is Terminate\n"
     ]
    }
   ],
   "source": [
    "#Question 03\n",
    "\n",
    "repeat = 'y'\n",
    "while repeat == 'y':\n",
    "    age = int(input(\"Tell your Age: \"))\n",
    "    if age < 3:\n",
    "        print(\"Your ticket's price is Free\")\n",
    "    elif age >= 3 and age <= 12:\n",
    "        print(\"Your ticket's price is $10\")\n",
    "    elif age > 12:\n",
    "        print(\"Your ticket's is $15\")\n",
    "    else:\n",
    "        print(\"Invalid Input\")\n",
    "    repeat = input(\"Press y for Yes for buying more tickets & Press any key if you are finished: \")\n",
    "    if repeat != 'y':\n",
    "        print(\"Program is Terminate\")"
   ]
  },
  {
   "cell_type": "code",
   "execution_count": 22,
   "metadata": {},
   "outputs": [
    {
     "name": "stdout",
     "output_type": "stream",
     "text": [
      "Enter your Favorite Book: A Thousand Splendid Suns by Khaled Hosseini\n",
      "My Favourite Book Is A Thousand Splendid Suns by Khaled Hosseini\n"
     ]
    }
   ],
   "source": [
    "#Question 04\n",
    "\n",
    "def favourite_book():\n",
    "    favourite_book = input(\"Enter your Favorite Book: \")\n",
    "    print(\"My Favourite Book Is\", favourite_book)\n",
    "\n",
    "favourite_book()"
   ]
  },
  {
   "cell_type": "code",
   "execution_count": 24,
   "metadata": {},
   "outputs": [
    {
     "name": "stdout",
     "output_type": "stream",
     "text": [
      "enter a number in range 1 to 50 as a guess number 40\n",
      "wrong guess\n",
      "Hint : number is less than number you entered\n",
      "enter another guess number\n",
      "secound last chance25\n",
      "wrong guess\n",
      "Hint : number is less than number you enetered\n",
      "enter another guess number\n",
      "last chance20\n",
      "better luck next time\n",
      "the actual number was :  19\n"
     ]
    }
   ],
   "source": [
    "#Question 05\n",
    "\n",
    "import random\n",
    "value = random.randint(1 ,50)\n",
    "guess = int(input(\"enter a number in range 1 to 50 as a guess number \"))\n",
    "if value == guess :\n",
    "    print(\"bingo\")\n",
    "elif value > guess :\n",
    "    print(\"wrong guess\" + \"\\n\" + \"Hint : number is greater than the number you entered\")\n",
    "else :\n",
    "    print(\"wrong guess\" + \"\\n\" + \"Hint : number is less than number you entered\")\n",
    "guess_2 = int(input(\"enter another guess number\"+ \"\\n\" + \"secound last chance\"))\n",
    "if guess_2 == value:\n",
    "    print(\"bingo\")\n",
    "elif guess_2 > value :\n",
    "    print(\"wrong guess\" + \"\\n\" + \"Hint : number is less than number you enetered\")\n",
    "else :\n",
    "    print(\"wrong guess\" + \"\\n\" + \"Hint : number is greater than number you entered\")\n",
    "guess_3 = int(input(\"enter another guess number\" + \"\\n\" + \"last chance\"))\n",
    "if guess_3 == value :\n",
    "    print(\"bingo\")\n",
    "else :\n",
    "    print(\"better luck next time\")\n",
    "print(\"the actual number was : \", value)"
   ]
  },
  {
   "cell_type": "code",
   "execution_count": null,
   "metadata": {},
   "outputs": [],
   "source": []
  }
 ],
 "metadata": {
  "kernelspec": {
   "display_name": "Python 3",
   "language": "python",
   "name": "python3"
  },
  "language_info": {
   "codemirror_mode": {
    "name": "ipython",
    "version": 3
   },
   "file_extension": ".py",
   "mimetype": "text/x-python",
   "name": "python",
   "nbconvert_exporter": "python",
   "pygments_lexer": "ipython3",
   "version": "3.7.4"
  }
 },
 "nbformat": 4,
 "nbformat_minor": 2
}
